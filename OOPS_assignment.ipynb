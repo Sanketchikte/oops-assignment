{
  "nbformat": 4,
  "nbformat_minor": 0,
  "metadata": {
    "colab": {
      "provenance": []
    },
    "kernelspec": {
      "name": "python3",
      "display_name": "Python 3"
    },
    "language_info": {
      "name": "python"
    }
  },
  "cells": [
    {
      "cell_type": "markdown",
      "source": [
        "**Que. 1.What are the five concepts of Object Oriented Programming(OOP)?**\n",
        "\n",
        "**Ans.**\n",
        "\n",
        "**1. Encapsulation:** Bundling data (attributes) and methods (functions) that operate on the data into a single unit, or class. It restricts direct access to some of the object's components.\n",
        "\n",
        "*  Think of it as a protective wrapper around data.\n",
        "\n",
        "**2. Abstraction:** Simplifying complex reality by modeling classes appropriate to the problem, and working at the most relevant level of inheritance for a particular aspect of the problem.\n",
        "*  \n",
        "It hides unnecessary details from the user.\n",
        "\n",
        "**3. Inheritance:** Creating new classes from existing ones, inheriting attributes and methods. This promotes code reusability.\n",
        "\n",
        "*   Like a child inheriting traits from their parents.\n",
        "\n",
        "**4. Polymorphism:** Using a unified interface to represent different underlying forms (data types). It allows objects to be treated as instances of their parent class rather than their actual class.\n",
        "\n",
        "*   Think of it as one interface, many implementations.\n",
        "\n",
        "**5. Classes and Objects:**\n",
        "\n",
        "*   **Class:** A blueprint for creating objects (a particular data structure).\n",
        "*  **Object:** An instance of a class.\n",
        "\n",
        "*   Like a cookie cutter (class) and cookies (objects)."
      ],
      "metadata": {
        "id": "zzFfZRBNJGYW"
      }
    },
    {
      "cell_type": "markdown",
      "source": [
        "**Que. 2.Write a python class for a 'Car'with attributes for 'make','model',and'year'.Include a method to display the car's information.**\n",
        "\n",
        "**Ans.**\n",
        "\n"
      ],
      "metadata": {
        "id": "6TzhFFXnMvcq"
      }
    },
    {
      "cell_type": "code",
      "execution_count": null,
      "metadata": {
        "id": "84UihvCFI7Px",
        "colab": {
          "base_uri": "https://localhost:8080/"
        },
        "outputId": "8540a255-e942-4198-9c9a-e9f5d6ab482d"
      },
      "outputs": [
        {
          "output_type": "stream",
          "name": "stdout",
          "text": [
            "Car Information: 2020 Toyota Camry\n"
          ]
        }
      ],
      "source": [
        "class Car:\n",
        "    def __init__(self, make, model, year):\n",
        "        self.make = make\n",
        "        self.model = model\n",
        "        self.year = year\n",
        "\n",
        "    def display_info(self):\n",
        "        print(f\"Car Information: {self.year} {self.make} {self.model}\")\n",
        "\n",
        "# Example usage\n",
        "my_car = Car(\"Toyota\", \"Camry\", 2020)\n",
        "my_car.display_info()\n"
      ]
    },
    {
      "cell_type": "markdown",
      "source": [
        "**Que. 3.Explain the difference between instance methods and class methods.Provide an example of each.**\n",
        "\n",
        "**Ans.**\n",
        "\n",
        "**Instance Methods**\n",
        "\n",
        "Instance methods are the most common type of method in Python classes. They operate on an instance of the class and can access and modify the object’s state. They are defined with a self parameter that refers to the instance invoking the method.\n",
        "\n",
        "**Class Methods**\n",
        "\n",
        "Class methods are methods that are bound to the class and not the instance. They can modify class state that applies across all instances of the class. They are defined with a cls parameter that refers to the class itself and are marked with the @classmethod decorator.\n",
        "\n"
      ],
      "metadata": {
        "id": "CSyl-rRXRTOd"
      }
    },
    {
      "cell_type": "code",
      "source": [
        "class Car:\n",
        "    manufacturer_country = \"Japan\"\n",
        "\n",
        "    def __init__(self, make, model, year):\n",
        "        self.make = make\n",
        "        self.model = model\n",
        "        self.year = year\n",
        "\n",
        "    @classmethod\n",
        "    def change_manufacturer_country(cls, new_country):\n",
        "        cls.manufacturer_country = new_country\n",
        "\n",
        "    def display_info(self):\n",
        "        return f\"Car Information: {self.year} {self.make} {self.model} - Made in {Car.manufacturer_country}\"\n",
        "\n",
        "# Create an instance\n",
        "my_car = Car(\"Toyota\", \"Camry\", 2020)\n",
        "print(my_car.display_info())\n",
        "\n",
        "# Change the class variable using class method\n",
        "Car.change_manufacturer_country(\"USA\")\n",
        "print(my_car.display_info())\n"
      ],
      "metadata": {
        "colab": {
          "base_uri": "https://localhost:8080/"
        },
        "id": "FBIgBi6NRFVb",
        "outputId": "d1b969dc-c2fc-4989-8f02-cd670748c54d"
      },
      "execution_count": null,
      "outputs": [
        {
          "output_type": "stream",
          "name": "stdout",
          "text": [
            "Car Information: 2020 Toyota Camry - Made in Japan\n",
            "Car Information: 2020 Toyota Camry - Made in USA\n"
          ]
        }
      ]
    },
    {
      "cell_type": "markdown",
      "source": [
        "**Que. 4.How does Python implement method overloading? Give an example.**\n",
        "\n",
        "**Ans.**\n",
        "Python doesn't support traditional method overloading (where multiple methods have the same name but different parameters) like some other languages do. Instead, it allows you to achieve similar functionality through default arguments and variable-length arguments.\n"
      ],
      "metadata": {
        "id": "opbjMUlPUew9"
      }
    },
    {
      "cell_type": "code",
      "source": [
        "class Example:\n",
        "    def __init__(self, *args):\n",
        "        if len(args) == 1:\n",
        "            self.value = args[0]\n",
        "        elif len(args) == 2:\n",
        "            self.value = args[0] + args[1]\n",
        "        else:\n",
        "            self.value = 0\n",
        "\n",
        "    def display_value(self):\n",
        "        print(f\"Value: {self.value}\")\n",
        "\n",
        "# Example usage\n",
        "obj1 = Example(10)\n",
        "obj2 = Example(10, 20)\n",
        "obj3 = Example()\n",
        "\n",
        "obj1.display_value()\n",
        "obj2.display_value()\n",
        "obj3.display_value()\n"
      ],
      "metadata": {
        "colab": {
          "base_uri": "https://localhost:8080/"
        },
        "id": "7i46Y3rcT8C6",
        "outputId": "833268e7-ec59-4120-b821-d025edc8f1dc"
      },
      "execution_count": null,
      "outputs": [
        {
          "output_type": "stream",
          "name": "stdout",
          "text": [
            "Value: 10\n",
            "Value: 30\n",
            "Value: 0\n"
          ]
        }
      ]
    },
    {
      "cell_type": "markdown",
      "source": [
        "**Que. 5.What are the three types of access modifiers in python?How are they denoted?**\n",
        "\n",
        "**Ans.** In Python, access modifiers are used to set the accessibility of the attributes and methods of a class. There are three types of access modifiers:\n",
        "\n",
        "**1. Public:**Accessible from anywhere.\n",
        "\n",
        "\n",
        "\n",
        "*   Denoted simply by using the attribute name without any leading underscores.\n",
        "\n",
        "\n",
        "*  Example: self.name\n",
        "\n",
        "**2. Protected:** Accessible within the class and its subclasses.\n",
        "\n",
        "\n",
        "\n",
        "*   Denoted by a single leading underscore.\n",
        "*  Example: self._name\n",
        "\n",
        "**3. Private:**Accessible only within the class itself.\n",
        "\n",
        "\n",
        "\n",
        "*   Denoted by a double leading underscore.\n",
        "*   Example: self.__name\n",
        "\n",
        "\n",
        "\n"
      ],
      "metadata": {
        "id": "kQSYxOf3W-71"
      }
    },
    {
      "cell_type": "code",
      "source": [
        "class Example:\n",
        "    def __init__(self, public, protected, private):\n",
        "        self.public = public\n",
        "        self._protected = protected\n",
        "        self.__private = private\n",
        "\n",
        "    def display(self):\n",
        "        print(f\"Public: {self.public}\")\n",
        "        print(f\"Protected: {self._protected}\")\n",
        "        print(f\"Private: {self.__private}\")\n",
        "\n",
        "# Create an instance\n",
        "obj = Example(\"Public\", \"Protected\", \"Private\")\n",
        "obj.display()\n",
        "\n",
        "# Accessing attributes\n",
        "print(obj.public)        # Works fine\n",
        "print(obj._protected)    # Works but should be used with caution\n",
        "print(obj.__private)     # Throws an AttributeError\n"
      ],
      "metadata": {
        "colab": {
          "base_uri": "https://localhost:8080/",
          "height": 263
        },
        "id": "fuC5Oyw2W9r6",
        "outputId": "5298e0da-5376-41b3-9c23-a8b57b7a285c"
      },
      "execution_count": null,
      "outputs": [
        {
          "output_type": "stream",
          "name": "stdout",
          "text": [
            "Public: Public\n",
            "Protected: Protected\n",
            "Private: Private\n",
            "Public\n",
            "Protected\n"
          ]
        },
        {
          "output_type": "error",
          "ename": "AttributeError",
          "evalue": "'Example' object has no attribute '__private'",
          "traceback": [
            "\u001b[0;31m---------------------------------------------------------------------------\u001b[0m",
            "\u001b[0;31mAttributeError\u001b[0m                            Traceback (most recent call last)",
            "\u001b[0;32m<ipython-input-6-0ef214c8b610>\u001b[0m in \u001b[0;36m<cell line: 19>\u001b[0;34m()\u001b[0m\n\u001b[1;32m     17\u001b[0m \u001b[0mprint\u001b[0m\u001b[0;34m(\u001b[0m\u001b[0mobj\u001b[0m\u001b[0;34m.\u001b[0m\u001b[0mpublic\u001b[0m\u001b[0;34m)\u001b[0m        \u001b[0;31m# Works fine\u001b[0m\u001b[0;34m\u001b[0m\u001b[0;34m\u001b[0m\u001b[0m\n\u001b[1;32m     18\u001b[0m \u001b[0mprint\u001b[0m\u001b[0;34m(\u001b[0m\u001b[0mobj\u001b[0m\u001b[0;34m.\u001b[0m\u001b[0m_protected\u001b[0m\u001b[0;34m)\u001b[0m    \u001b[0;31m# Works but should be used with caution\u001b[0m\u001b[0;34m\u001b[0m\u001b[0;34m\u001b[0m\u001b[0m\n\u001b[0;32m---> 19\u001b[0;31m \u001b[0mprint\u001b[0m\u001b[0;34m(\u001b[0m\u001b[0mobj\u001b[0m\u001b[0;34m.\u001b[0m\u001b[0m__private\u001b[0m\u001b[0;34m)\u001b[0m     \u001b[0;31m# Throws an AttributeError\u001b[0m\u001b[0;34m\u001b[0m\u001b[0;34m\u001b[0m\u001b[0m\n\u001b[0m",
            "\u001b[0;31mAttributeError\u001b[0m: 'Example' object has no attribute '__private'"
          ]
        }
      ]
    },
    {
      "cell_type": "code",
      "source": [
        "class Example:\n",
        "    def __init__(self, public, protected, private):\n",
        "        self.public = public\n",
        "        self._protected = protected\n",
        "        self.__private = private\n",
        "\n",
        "    def display(self):\n",
        "        print(f\"Public: {self.public}\")\n",
        "        print(f\"Protected: {self._protected}\")\n",
        "        print(f\"Private: {self.__private}\")\n",
        "\n",
        "# Create an instance\n",
        "obj = Example(\"Public\", \"Protected\", \"Private\")\n",
        "obj.display()\n",
        "\n",
        "# Accessing attributes\n",
        "print(obj.public)        # Works fine\n",
        "print(obj._protected)    # Works but should be used with caution\n",
        "print(obj._Example__private)     #Works due to name mangling\n"
      ],
      "metadata": {
        "colab": {
          "base_uri": "https://localhost:8080/"
        },
        "id": "KznHFxDwayjQ",
        "outputId": "f1741f31-e9ed-4bca-be1f-939c8be0f7b1"
      },
      "execution_count": null,
      "outputs": [
        {
          "output_type": "stream",
          "name": "stdout",
          "text": [
            "Public: Public\n",
            "Protected: Protected\n",
            "Private: Private\n",
            "Public\n",
            "Protected\n",
            "Private\n"
          ]
        }
      ]
    },
    {
      "cell_type": "markdown",
      "source": [
        "**Que. 6.Describe the five types of inheritance in python.Provide a simple example of multiple inheritance.**\n",
        "\n",
        "**Ans.**\n",
        "\n",
        "\n",
        "1.   Single Inheritance.\n",
        "\n",
        "2.   Multiple Inheritance.\n",
        "\n",
        "3.   Multilevel Inheritance.\n",
        "4.   Hierarchical Inheritance.\n",
        "\n",
        "5.  Hybrid Inheritance.\n"
      ],
      "metadata": {
        "id": "80xh-Hmjb1lm"
      }
    },
    {
      "cell_type": "code",
      "source": [
        "#multiple inheritance\n",
        "\n",
        "class Parent1:\n",
        "    def method1(self):\n",
        "        print(\"Parent1 method\")\n",
        "\n",
        "class Parent2:\n",
        "    def method2(self):\n",
        "        print(\"Parent2 method\")\n",
        "\n",
        "class Child(Parent1, Parent2):\n",
        "    pass\n",
        "\n",
        "\n",
        "# Example usage\n",
        "child = Child()\n",
        "child.method1()\n",
        "child.method2()"
      ],
      "metadata": {
        "colab": {
          "base_uri": "https://localhost:8080/"
        },
        "id": "m_zzMOfsbw55",
        "outputId": "0d800bef-775c-4fde-e9df-3ae6367c03e0"
      },
      "execution_count": null,
      "outputs": [
        {
          "output_type": "stream",
          "name": "stdout",
          "text": [
            "Parent1 method\n",
            "Parent2 method\n"
          ]
        }
      ]
    },
    {
      "cell_type": "markdown",
      "source": [
        "**Que. 7.What is the Method Resolution Order (MRO)in Python?How can you retrieve it programmatically?**\n",
        "\n",
        "**Ans.**The Method Resolution Order (MRO) in Python is the order in which Python looks for a method in a hierarchy of classes. It becomes crucial when dealing with multiple inheritance because it determines the sequence in which base classes are traversed to find a method.\n",
        "\n",
        "Python uses the C3 linearization algorithm (also known as C3 superclass linearization) to obtain the MRO."
      ],
      "metadata": {
        "id": "qx1O6KkLhC1X"
      }
    },
    {
      "cell_type": "code",
      "source": [
        "#MRO() method\n",
        "\n",
        "class A:\n",
        "    pass\n",
        "\n",
        "class B(A):\n",
        "    pass\n",
        "\n",
        "class C(A):\n",
        "    pass\n",
        "\n",
        "class D(B, C):\n",
        "    pass\n",
        "\n",
        "# Retrieve MRO\n",
        "print(D.mro())\n"
      ],
      "metadata": {
        "colab": {
          "base_uri": "https://localhost:8080/"
        },
        "id": "MlDYKa4JguMO",
        "outputId": "55710309-bc3e-412e-c634-61b139421daf"
      },
      "execution_count": null,
      "outputs": [
        {
          "output_type": "stream",
          "name": "stdout",
          "text": [
            "[<class '__main__.D'>, <class '__main__.B'>, <class '__main__.C'>, <class '__main__.A'>, <class 'object'>]\n"
          ]
        }
      ]
    },
    {
      "cell_type": "code",
      "source": [
        "#__mro__ Attribute\n",
        "\n",
        "class A:\n",
        "    pass\n",
        "\n",
        "class B(A):\n",
        "    pass\n",
        "\n",
        "class C(A):\n",
        "    pass\n",
        "\n",
        "class D(B, C):\n",
        "    pass\n",
        "\n",
        "# Retrieve MRO\n",
        "print(D.__mro__)\n"
      ],
      "metadata": {
        "colab": {
          "base_uri": "https://localhost:8080/"
        },
        "id": "0V26X__Yj6S_",
        "outputId": "1e6d5cdc-ebff-49d5-cf68-71322b308e49"
      },
      "execution_count": null,
      "outputs": [
        {
          "output_type": "stream",
          "name": "stdout",
          "text": [
            "(<class '__main__.D'>, <class '__main__.B'>, <class '__main__.C'>, <class '__main__.A'>, <class 'object'>)\n"
          ]
        }
      ]
    },
    {
      "cell_type": "markdown",
      "source": [
        "**Que. 8.Create an abstract base class 'Shape'with an abstract method 'area()'.\n",
        "Then create two subclasses'Circle' and'Rectangle'that implement the 'area()'method.**\n",
        "\n",
        "**Ans.**\n",
        "\n",
        "**Breakdown:**\n",
        "\n",
        "\n",
        "*  **Shape:** This is the abstract base class with an abstract method area().\n",
        "\n",
        "*   **Circle:** Inherits from Shape and implements the area() method, calculating the area of a circle.\n",
        "*  **Rectangle:** Inherits from Shape and implements the area() method, calculating the area of a rectangle.\n",
        "\n",
        "\n",
        "\n",
        "\n"
      ],
      "metadata": {
        "id": "CfKa5yb1Ilml"
      }
    },
    {
      "cell_type": "code",
      "source": [
        "from abc import ABC, abstractmethod\n",
        "\n",
        "class Shape(ABC):\n",
        "    @abstractmethod\n",
        "    def area(self):\n",
        "        pass\n",
        "\n",
        "class Circle(Shape):\n",
        "    def __init__(self, radius):\n",
        "        self.radius = radius\n",
        "\n",
        "    def area(self):\n",
        "        return 3.14159 * (self.radius ** 2)\n",
        "\n",
        "class Rectangle(Shape):\n",
        "    def __init__(self, width, height):\n",
        "        self.width = width\n",
        "        self.height = height\n",
        "\n",
        "    def area(self):\n",
        "        return self.width * self.height\n",
        "\n",
        "# Example usage\n",
        "circle = Circle(5)\n",
        "rectangle = Rectangle(4, 6)\n",
        "\n",
        "print(f\"Circle area: {circle.area()}\")\n",
        "print(f\"Rectangle area: {rectangle.area()}\")\n"
      ],
      "metadata": {
        "id": "5c7h5UTMkFko",
        "colab": {
          "base_uri": "https://localhost:8080/"
        },
        "outputId": "de0dbac0-3871-4dec-c929-2170711e1f14"
      },
      "execution_count": null,
      "outputs": [
        {
          "output_type": "stream",
          "name": "stdout",
          "text": [
            "Circle area: 78.53975\n",
            "Rectangle area: 24\n"
          ]
        }
      ]
    },
    {
      "cell_type": "markdown",
      "source": [
        "**Que. 9.Demonstrate polymorphism by creating a function that can work with different shape objects to calculate and print their areas.**\n",
        "\n",
        "**Ans.** Demonstrate polymorphism by creating a function that can accept any shape object (like Circle or Rectangle) and print their areas.\n",
        "\n",
        "**Explanation:**\n",
        "\n",
        "*  **Shape Class:** Defines the abstract method area().\n",
        "\n",
        "*   **Circle and Rectangle Classes:** Both implement the area() method, each calculating their own area.\n",
        "*   **print_area Function:** Takes a Shape object and prints its area. This function demonstrates polymorphism by accepting any object that is an instance of a subclass of Shape.\n",
        "\n"
      ],
      "metadata": {
        "id": "bh4Jyj7QLgVq"
      }
    },
    {
      "cell_type": "code",
      "source": [
        "from abc import ABC, abstractmethod\n",
        "\n",
        "class Shape(ABC):\n",
        "    @abstractmethod\n",
        "    def area(self):\n",
        "        pass\n",
        "\n",
        "class Circle(Shape):\n",
        "    def __init__(self, radius):\n",
        "        self.radius = radius\n",
        "\n",
        "    def area(self):\n",
        "        return 3.14159 * (self.radius ** 2)\n",
        "\n",
        "class Rectangle(Shape):\n",
        "    def __init__(self, width, height):\n",
        "        self.width = width\n",
        "        self.height = height\n",
        "\n",
        "    def area(self):\n",
        "        return self.width * self.height\n",
        "\n",
        "def print_area(shape):\n",
        "    print(f\"The area of the shape is: {shape.area()}\")\n",
        "\n",
        "# Example usage\n",
        "circle = Circle(5)\n",
        "rectangle = Rectangle(4, 6)\n",
        "\n",
        "print_area(circle)\n",
        "print_area(rectangle)\n"
      ],
      "metadata": {
        "colab": {
          "base_uri": "https://localhost:8080/"
        },
        "id": "TXq0NCnSLOn0",
        "outputId": "6b589129-9f83-4e13-87f4-0a4df3f6a767"
      },
      "execution_count": null,
      "outputs": [
        {
          "output_type": "stream",
          "name": "stdout",
          "text": [
            "The area of the shape is: 78.53975\n",
            "The area of the shape is: 24\n"
          ]
        }
      ]
    },
    {
      "cell_type": "markdown",
      "source": [
        "**Que. 10.Implement encapsulation in a 'Bank Account'class with private attributes for 'balance' and 'account_number'.Include methods for deposit,withdrawal,and balance inquiry.**\n",
        "\n",
        "**Ans.**\n",
        "\n",
        "**Breakdown:**\n",
        "\n",
        "\n",
        "*  **Private Attributes:** __account_number and __balance are private and can't be accessed directly from outside the class.\n",
        "\n",
        "**Methods:**\n",
        "\n",
        "\n",
        "\n",
        "*  deposit(amount): Adds money to the balance.\n",
        "\n",
        "*   withdraw(amount): Subtracts money from the balance, ensuring sufficient funds are available.\n",
        "*  get_balance(): Prints the current balance.\n",
        "\n",
        "\n",
        "\n",
        "\n",
        "\n",
        "\n"
      ],
      "metadata": {
        "id": "rEd7W0zZOYIx"
      }
    },
    {
      "cell_type": "code",
      "source": [
        "class BankAccount:\n",
        "    def __init__(self, account_number, initial_balance=0):\n",
        "        self.__account_number = account_number\n",
        "        self.__balance = initial_balance\n",
        "\n",
        "    def deposit(self, amount):\n",
        "        if amount > 0:\n",
        "            self.__balance += amount\n",
        "            print(f\"Deposited {amount}. New balance: {self.__balance}\")\n",
        "        else:\n",
        "            print(\"Deposit amount must be positive.\")\n",
        "\n",
        "    def withdraw(self, amount):\n",
        "        if amount > 0:\n",
        "            if amount <= self.__balance:\n",
        "                self.__balance -= amount\n",
        "                print(f\"Withdrew {amount}. New balance: {self.__balance}\")\n",
        "            else:\n",
        "                print(\"Insufficient funds.\")\n",
        "        else:\n",
        "            print(\"Withdrawal amount must be positive.\")\n",
        "\n",
        "    def get_balance(self):\n",
        "        print(f\"Current balance: {self.__balance}\")\n",
        "\n",
        "# Example usage\n",
        "account = BankAccount(\"12345678\", 1000)\n",
        "account.deposit(500)\n",
        "account.withdraw(200)\n",
        "account.get_balance()\n"
      ],
      "metadata": {
        "colab": {
          "base_uri": "https://localhost:8080/"
        },
        "id": "IlXTly_MOS9y",
        "outputId": "e1b90c88-87fa-491e-c6c0-85e7d404962d"
      },
      "execution_count": null,
      "outputs": [
        {
          "output_type": "stream",
          "name": "stdout",
          "text": [
            "Deposited 500. New balance: 1500\n",
            "Withdrew 200. New balance: 1300\n",
            "Current balance: 1300\n"
          ]
        }
      ]
    },
    {
      "cell_type": "markdown",
      "source": [
        "**Que. 11.Write a class that overrides the '__str__'and'__add__'magic methods.What will these methods allow you to do?**\n",
        "\n",
        "**Ans.**\n",
        "\n",
        "    The __str__ Method\n",
        "\n",
        "The __str__ method is used to define a human-readable string representation of an object. It's what gets called when you use print() or str() on an object.\n",
        "\n",
        "    The __add__ Method\n",
        "\n",
        " The __add__ method allows you to define custom behavior for the + operator. By overriding this method, you can control how objects of your class are added together\n",
        "\n",
        "\n",
        "**What These Methods Allow You to Do**\n",
        "\n",
        "\n",
        "\n",
        "*   __str__: When you print(p1), the __str__ method is called, returning a string that represents the Point object in a readable format.\n",
        "*   __add__: When you p1 + p2, the __add__ method is called, allowing you to define how two Point objects are added together (by summing their x and y coordinates in this case).\n"
      ],
      "metadata": {
        "id": "jty9uJLCR0MV"
      }
    },
    {
      "cell_type": "code",
      "source": [
        "class Point:\n",
        "    def __init__(self, x, y):\n",
        "        self.x = x\n",
        "        self.y = y\n",
        "\n",
        "    def __str__(self):\n",
        "        return f\"Point({self.x}, {self.y})\"\n",
        "\n",
        "    def __add__(self, other):\n",
        "        if isinstance(other, Point):\n",
        "            return Point(self.x + other.x, self.y + other.y)\n",
        "        return NotImplemented\n",
        "\n",
        "# Example usage\n",
        "p1 = Point(1, 2)\n",
        "p2 = Point(3, 4)\n",
        "\n",
        "# Using __str__\n",
        "print(p1)\n",
        "print(p2)\n",
        "\n",
        "# Using __add__\n",
        "p3 = p1 + p2\n",
        "print(p3)\n"
      ],
      "metadata": {
        "colab": {
          "base_uri": "https://localhost:8080/"
        },
        "id": "pA7tMlLbRu2z",
        "outputId": "df906ff1-13a4-46f5-a0ea-65d94f06d091"
      },
      "execution_count": null,
      "outputs": [
        {
          "output_type": "stream",
          "name": "stdout",
          "text": [
            "Point(1, 2)\n",
            "Point(3, 4)\n",
            "Point(4, 6)\n"
          ]
        }
      ]
    },
    {
      "cell_type": "markdown",
      "source": [
        "**Que. 12.Create a decorator that measures and prints the execution time of a function.**\n",
        "\n",
        "**Ans.**\n",
        "\n",
        "**Explanation:**\n",
        "\n",
        "\n",
        "\n",
        "*   **Decorator Definition:** execution_time_decorator wraps the original function.\n",
        "\n",
        "*   **Timing:** start_time is recorded before the function call, and end_time is recorded after the function call. The difference gives the execution time.\n",
        "*   **Wrapper:** The wrapper function executes the original function and prints its execution time."
      ],
      "metadata": {
        "id": "6DAqaV2PWbdB"
      }
    },
    {
      "cell_type": "code",
      "source": [
        "import time\n",
        "\n",
        "def execution_time_decorator(func):\n",
        "    def wrapper(*args, **kwargs):\n",
        "        start_time = time.time()\n",
        "        result = func(*args, **kwargs)\n",
        "        end_time = time.time()\n",
        "        execution_time = end_time - start_time\n",
        "        print(f\"Execution time of {func.__name__}: {execution_time:.6f} seconds\")\n",
        "        return result\n",
        "    return wrapper\n",
        "\n",
        "# Example usage\n",
        "@execution_time_decorator\n",
        "def example_function(n):\n",
        "    total = 0\n",
        "    for i in range(n):\n",
        "        total += i\n",
        "    return total\n",
        "\n",
        "# Call the decorated function\n",
        "example_function(1000000)\n"
      ],
      "metadata": {
        "colab": {
          "base_uri": "https://localhost:8080/"
        },
        "id": "Mvt9HsGGWXgh",
        "outputId": "4c268ae7-6c85-416d-a1b1-b3071843905a"
      },
      "execution_count": null,
      "outputs": [
        {
          "output_type": "stream",
          "name": "stdout",
          "text": [
            "Execution time of example_function: 0.100319 seconds\n"
          ]
        },
        {
          "output_type": "execute_result",
          "data": {
            "text/plain": [
              "499999500000"
            ]
          },
          "metadata": {},
          "execution_count": 7
        }
      ]
    },
    {
      "cell_type": "markdown",
      "source": [
        "**Que. 13.Explain the concept of the Diamond Problem in multiple inheritance.How does Python resolve it?**\n",
        "\n",
        "**Ans.**The Diamond Problem arises in multiple inheritance when a class inherits from two classes that both inherit from the same superclass. This creates a diamond-shaped inheritance diagram, which can lead to ambiguity about which superclass method should be used.\n",
        "\n",
        "\n",
        "**Python's Solution - Method Resolution Order (MRO)**\n",
        "\n",
        "Python resolves this ambiguity using the C3 linearization (or C3 superclass linearization) algorithm. It determines the Method Resolution Order (MRO) which dictates the order in which classes are inherited and methods are resolved.\n",
        "\n",
        "**Explanation**\n",
        "\n",
        "\n",
        "\n",
        "*   **Output:**When you call d.method(), Python uses the MRO to decide which method to call. In this case, it calls B.method().\n",
        "* **MRO:** D.mro() shows the MRO, which is [D, B, C, A, object]. This means Python looks for methods in D, then B, then C, then A, and finally in the base object class.\n",
        "\n",
        "\n"
      ],
      "metadata": {
        "id": "1nrdYsA_ZonM"
      }
    },
    {
      "cell_type": "code",
      "source": [
        "    A\n",
        "   / \\\n",
        "  B   C\n",
        "   \\ /\n",
        "    D\n",
        "#Here, class D inherits from both B and C, and both B and C inherit from A. If D tries to access a method that is defined in A, there is ambiguity: does D use the method from B or C"
      ],
      "metadata": {
        "id": "_cMpApNYZF94"
      },
      "execution_count": null,
      "outputs": []
    },
    {
      "cell_type": "code",
      "source": [
        "class A:\n",
        "    def method(self):\n",
        "        print(\"A method\")\n",
        "\n",
        "class B(A):\n",
        "    def method(self):\n",
        "        print(\"B method\")\n",
        "\n",
        "class C(A):\n",
        "    def method(self):\n",
        "        print(\"C method\")\n",
        "\n",
        "class D(B, C):\n",
        "    pass\n",
        "\n",
        "# Example usage\n",
        "d = D()\n",
        "d.method()\n",
        "\n",
        "# Print the MRO\n",
        "print(D.mro())\n"
      ],
      "metadata": {
        "colab": {
          "base_uri": "https://localhost:8080/"
        },
        "id": "1Johqf-ZboVP",
        "outputId": "dfafbabc-6f8d-4816-8eea-a0ff91caa998"
      },
      "execution_count": null,
      "outputs": [
        {
          "output_type": "stream",
          "name": "stdout",
          "text": [
            "B method\n",
            "[<class '__main__.D'>, <class '__main__.B'>, <class '__main__.C'>, <class '__main__.A'>, <class 'object'>]\n"
          ]
        }
      ]
    },
    {
      "cell_type": "markdown",
      "source": [
        "**Que. 14.Write a class method that keeps track of the number of instances created from class.**\n",
        "\n",
        "**Ans.**\n",
        "**Class Method:** A class method is a method that’s bound to the class and not the instance of the class. They have access to the class itself and can modify class state. Class methods are defined using the @classmethod decorator and the cls parameter, which refers to the class.\n",
        "\n",
        "**Steps:**\n",
        "\n",
        "\n",
        "1. **Define the Class:**\n",
        "\n",
        "\n",
        "*  Create a class, e.g., MyClass.\n",
        "\n",
        "\n",
        "\n",
        "\n",
        "\n",
        "\n",
        "2. **Class Variable:**\n",
        "\n",
        "\n",
        "*   Use a class variable to hold the count of instances. This variable is shared across all instances of the class.\n",
        "*  Example: instance_count = 0\n",
        "\n",
        "\n",
        "3.   **Update Count in Constructor:**\n",
        "\n",
        "\n",
        "*  Increment the class variable each time a new instance is created. This is done in the __init__ method.\n",
        "\n",
        "\n",
        "\n",
        "\n",
        "\n",
        "4.   **Class Method:**\n",
        "\n",
        "*   Define a class method to access the class variable. The method uses the @classmethod decorator.\n",
        "\n",
        "**Explanation:**\n",
        "\n",
        "\n",
        "\n",
        "*  instance_count: A class variable to track the number of instances.\n",
        "*   __init__ method: Each time an instance is created, instance_count is incremented.\n",
        "\n",
        "*   get_instance_count: A class method to retrieve the value of instance_count.\n",
        "\n"
      ],
      "metadata": {
        "id": "o3OC2nLkcXje"
      }
    },
    {
      "cell_type": "code",
      "source": [
        "class MyClass:\n",
        "    instance_count = 0  # Class variable to track instances\n",
        "\n",
        "    def __init__(self):\n",
        "        MyClass.instance_count += 1\n",
        "\n",
        "    @classmethod\n",
        "    def get_instance_count(cls):\n",
        "        return cls.instance_count\n",
        "\n",
        "# Example usage\n",
        "obj1 = MyClass()\n",
        "obj2 = MyClass()\n",
        "obj3 = MyClass()\n",
        "\n",
        "print(MyClass.get_instance_count())\n"
      ],
      "metadata": {
        "colab": {
          "base_uri": "https://localhost:8080/"
        },
        "id": "rW54UxP6cPHm",
        "outputId": "7515fff7-7f9c-467b-b0c3-7fee1323d3a5"
      },
      "execution_count": null,
      "outputs": [
        {
          "output_type": "stream",
          "name": "stdout",
          "text": [
            "3\n"
          ]
        }
      ]
    },
    {
      "cell_type": "markdown",
      "source": [
        "**Que. 15.Implement a static method in a class that checks if a given year is a leap year.**\n",
        "\n",
        "**Ans.**\n",
        "\n",
        "**Static Methods:** The staticmethod decorator is used to declare a static method. This method doesn't access or modify the class state and doesn't require the self or cls parameter.\n",
        "\n",
        "**Leap Year Calculation:**The method is_leap_year uses the rules for determining leap years:\n",
        "\n",
        "\n",
        "\n",
        "*  A year is a leap year if it is divisible by 4.\n",
        "\n",
        "*   However, if the year is also divisible by 100, it's not a leap year, unless...\n",
        "*  The year is divisible by 400, then it is a leap year.\n",
        "\n",
        "\n"
      ],
      "metadata": {
        "id": "01yaGdmfkrQM"
      }
    },
    {
      "cell_type": "code",
      "source": [
        "\n",
        "class YearUtility:\n",
        "    @staticmethod\n",
        "    def is_leap_year(year):\n",
        "        if (year % 4 == 0 and year % 100 != 0) or (year % 400 == 0):\n",
        "            return True\n",
        "        else:\n",
        "            return False\n",
        "\n",
        "# Example usage\n",
        "print(YearUtility.is_leap_year(2024))\n",
        "print(YearUtility.is_leap_year(2023))\n"
      ],
      "metadata": {
        "colab": {
          "base_uri": "https://localhost:8080/"
        },
        "id": "Av-edI31klKK",
        "outputId": "f2a928f8-53ca-42fa-e4ea-12b3bc7148f8"
      },
      "execution_count": null,
      "outputs": [
        {
          "output_type": "stream",
          "name": "stdout",
          "text": [
            "True\n",
            "False\n"
          ]
        }
      ]
    }
  ]
}